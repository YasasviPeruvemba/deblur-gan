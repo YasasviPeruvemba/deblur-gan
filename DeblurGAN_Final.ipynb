{
  "nbformat": 4,
  "nbformat_minor": 0,
  "metadata": {
    "accelerator": "GPU",
    "colab": {
      "name": "DeblurGAN_Final.ipynb",
      "provenance": [],
      "collapsed_sections": []
    },
    "kernelspec": {
      "display_name": "Python 3",
      "name": "python3"
    }
  },
  "cells": [
    {
      "cell_type": "code",
      "metadata": {
        "id": "Y6gaLXXgj26L"
      },
      "source": [
        "!git clone https://github.com/YasasviPeruvemba/deblur-gan.git"
      ],
      "execution_count": null,
      "outputs": []
    },
    {
      "cell_type": "code",
      "metadata": {
        "id": "CgJiKo-lkmf8"
      },
      "source": [
        "# MOUNT DRIVE (WITH DATASET) BEFORE PROCEEDING\n",
        "from google.colab import drive\n",
        "drive.mount('/content/drive')"
      ],
      "execution_count": null,
      "outputs": []
    },
    {
      "cell_type": "code",
      "metadata": {
        "id": "UKhvuyszkKVG"
      },
      "source": [
        "%%bash\n",
        "mkdir /content/deblur-gan/gopro/train -p\n",
        "mkdir /content/deblur-gan/logs\n",
        "cp \"/content/drive/My Drive/DeblurGANImages/blurred_sharp.zip\" /content/deblur-gan/gopro/train/\n",
        "cd /content/deblur-gan/gopro/train\n",
        "unzip blurred_sharp.zip\n",
        "mv \"./blurred_sharp/blurred\" \"./blurred_sharp/blur\"\n",
        "rm -r /content/deblur-gan/gopro/train/__MACOSX\n",
        "rm blurred_sharp.zip\n",
        "cd /content/deblur-gan"
      ],
      "execution_count": null,
      "outputs": []
    },
    {
      "cell_type": "code",
      "metadata": {
        "id": "5-ZzgG_Xn1OM"
      },
      "source": [
        "%cd /content/deblur-gan/\n",
        "%pip install -r requirements/requirements.txt\n",
        "%pip install -e ."
      ],
      "execution_count": null,
      "outputs": []
    },
    {
      "cell_type": "code",
      "metadata": {
        "id": "CFLVZehBkrRw"
      },
      "source": [
        "!python scripts/organize_gopro_dataset.py --dir_in=./gopro --dir_out=./images"
      ],
      "execution_count": null,
      "outputs": []
    },
    {
      "cell_type": "code",
      "metadata": {
        "id": "IP2ZMcebpZ2i"
      },
      "source": [
        "# CHECK IF THE PREPROCESSING WORKED\n",
        "import matplotlib.pyplot as plt\n",
        "\n",
        "a = plt.imread(\"./images/train/A/blurred_sharp_257.png\")\n",
        "plt.imshow(a)"
      ],
      "execution_count": null,
      "outputs": []
    },
    {
      "cell_type": "code",
      "metadata": {
        "id": "h1FFYUoVrSPv",
        "outputId": "3e144112-d0a9-444b-ae91-f4e3a6e7f46a",
        "colab": {
          "base_uri": "https://localhost:8080/"
        }
      },
      "source": [
        "!python scripts/train.py --n_images=8 --batch_size=8 --log_dir ./logs --epoch_num=10"
      ],
      "execution_count": null,
      "outputs": [
        {
          "output_type": "stream",
          "text": [
            "-0.4961452782154083 2044.5028\n"
          ],
          "name": "stdout"
        }
      ]
    }
  ]
}
